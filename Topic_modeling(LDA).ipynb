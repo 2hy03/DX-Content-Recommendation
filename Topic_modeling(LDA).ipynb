{
  "nbformat": 4,
  "nbformat_minor": 0,
  "metadata": {
    "colab": {
      "provenance": []
    },
    "kernelspec": {
      "name": "python3",
      "display_name": "Python 3"
    },
    "language_info": {
      "name": "python"
    }
  },
  "cells": [
    {
      "cell_type": "markdown",
      "source": [
        "## 토픽 모델링\n",
        "- 데이터에서 핵심 주제를 찾는 분석방법론\n",
        "- 문서 내에 어떤 토픽이, 어떤 비율로 구성되어 있는지 확인"
      ],
      "metadata": {
        "id": "R4S10DxD_ILH"
      }
    },
    {
      "cell_type": "code",
      "execution_count": 1,
      "metadata": {
        "colab": {
          "base_uri": "https://localhost:8080/"
        },
        "id": "66uXNBP1trqi",
        "outputId": "25577ea6-27ad-4062-c165-2751f2ede6cb"
      },
      "outputs": [
        {
          "output_type": "stream",
          "name": "stdout",
          "text": [
            "Drive already mounted at /content/drive; to attempt to forcibly remount, call drive.mount(\"/content/drive\", force_remount=True).\n"
          ]
        }
      ],
      "source": [
        "import pandas as pd\n",
        "import numpy as np\n",
        "from ast import literal_eval\n",
        "import re\n",
        "import urllib.request\n",
        "\n",
        "from nltk.stem import WordNetLemmatizer\n",
        "from sklearn.feature_extraction.text import TfidfVectorizer\n",
        "from sklearn.decomposition import LatentDirichletAllocation\n",
        "import warnings\n",
        "warnings.filterwarnings(\"ignore\")\n",
        "\n",
        "from google.colab import drive\n",
        "drive.mount('/content/drive')"
      ]
    },
    {
      "cell_type": "code",
      "source": [
        "contents_pd = pd.read_csv('/content/drive/MyDrive/Colab Notebooks/DX_contents/kr_dx_concat_pre.csv', encoding='utf-8')\n",
        "contents_pd.columns =['id', 'title', 'url', 'date', 'keyword', 'creator', 'view','likes', 'depart', 'depart1', 'language', 'text', 'new_text','key_words']"
      ],
      "metadata": {
        "id": "NT16UnbatwrW"
      },
      "execution_count": 2,
      "outputs": []
    },
    {
      "cell_type": "code",
      "source": [
        "contents_pd"
      ],
      "metadata": {
        "colab": {
          "base_uri": "https://localhost:8080/",
          "height": 1000
        },
        "id": "pE9MF7jAt2ne",
        "outputId": "51ace626-9d26-4ad0-c413-145a32a4ac51"
      },
      "execution_count": 3,
      "outputs": [
        {
          "output_type": "execute_result",
          "data": {
            "text/plain": [
              "      id                                              title  \\\n",
              "0      0                         1강. 디지털 트랜스포메이션(DX)에 대한 이해   \n",
              "1      1                           2강. 디지털 트랜스포메이션을 위한 사전준비   \n",
              "2      2                                      3강. 디지털 역량 진단   \n",
              "3      3                                    4강. 목표수립 및 방향설정   \n",
              "4      4                                 5강. 디지털 비즈니스 모델 혁신   \n",
              "..   ...                                                ...   \n",
              "752  752  잔디(JANDI), 잔디밭처럼 편안한 직장인 위한 소통 공간!”…토스랩 김대현 대표...   \n",
              "753  753                       14. 조직도 만들기(멤버 관리) ㅣ 잔디 튜토리얼   \n",
              "754  754               협업툴 CTO의 협업 A to Z ⎮ 잔디가 자라는 방법 ep.2   \n",
              "755  755   카카오톡? 잔디, 플로우, 네이버웍스, 노션... 우리 기업에 맞는 협업툴과 업무툴은?   \n",
              "756  756                7.  @멘션 - 담당자 지목하기ㅣ 잔디 튜토리얼   \n",
              "\n",
              "                                                   url        date  \\\n",
              "0          https://www.youtube.com/watch?v=TIW4r4FeOZE    2021.5.7   \n",
              "1          https://www.youtube.com/watch?v=zttI91TWqPs    2021.5.7   \n",
              "2          https://www.youtube.com/watch?v=dYr37tUnlvM    2021.5.7   \n",
              "3          https://www.youtube.com/watch?v=5IekH0xnth8    2021.5.7   \n",
              "4          https://www.youtube.com/watch?v=7k4QEJNNoNs    2021.5.7   \n",
              "..                                                 ...         ...   \n",
              "752  https://www.youtube.com/watch?v=WluXIGfs35g&pp...    2021.1.8   \n",
              "753  https://www.youtube.com/watch?v=unFIeTrHces&pp...  2020.12.22   \n",
              "754  https://www.youtube.com/watch?v=Ercl18BvRaU&pp...   2022.4.22   \n",
              "755  https://www.youtube.com/watch?v=KTy1VZ9oMcw&pp...  2022.10.17   \n",
              "756  https://www.youtube.com/watch?v=lQSbDtRqeig&pp...   2020.9.16   \n",
              "\n",
              "               keyword                  creator  view  likes  depart depart1  \\\n",
              "0    DX 표준 프레임워크 온라인교육                   KPC디지털  2508   29.0    DX이해    DX기초   \n",
              "1    DX 표준 프레임워크 온라인교육                   KPC디지털   764   11.0    DX이해    DX기초   \n",
              "2    DX 표준 프레임워크 온라인교육                   KPC디지털   799    9.0    DX이해    DX기초   \n",
              "3    DX 표준 프레임워크 온라인교육                   KPC디지털   504    9.0    DX이해    DX기초   \n",
              "4    DX 표준 프레임워크 온라인교육                   KPC디지털   405    5.0    DX이해    DX기초   \n",
              "..                 ...                      ...   ...    ...     ...     ...   \n",
              "752                NaN  V-ON Venture must go ON   103    1.0  커뮤니케이션    그룹웨어   \n",
              "753                NaN                    JANDI  2347    1.0  커뮤니케이션    그룹웨어   \n",
              "754             #JANDI                    JANDI   608   11.0  커뮤니케이션    그룹웨어   \n",
              "755                NaN                    가인지TV  4066   66.0  커뮤니케이션    그룹웨어   \n",
              "756                NaN                    JANDI  2578    3.0  커뮤니케이션    그룹웨어   \n",
              "\n",
              "    language                                               text  \\\n",
              "0        한국어  제 1강 ‘디지털 트랜스포메이션(DX)에 대한 이해‘ 강의입니다. \\n1강에서는 디...   \n",
              "1        한국어  제 2강 ‘디지털 트랜스포메이션을 위한 사전준비‘ 강의입니다. \\n2강에서는 어떻게...   \n",
              "2        한국어  제 3강 ‘디지털 역량 진단‘ 강의입니다. \\n3강에서는 디지털 트랜스포메이션을 위...   \n",
              "3        한국어  제 4강 ‘목표수립 및 방향설정‘ 강의입니다. \\n4강에서는 디지털 트랜스포메이션을...   \n",
              "4        한국어  제 5강 ‘디지털 비즈니스 모델 혁신‘ 강의입니다. \\n5강에서는 디지털 비즈니스 ...   \n",
              "..       ...                                                ...   \n",
              "752      한국어  브이온(V-ON) 벤처·스타트업 대표 인터뷰\\n\\n“창업은 좀 더 나은 세상을 만드...   \n",
              "753      한국어  멤버의 탈퇴/차단 등 멤버 관리가 궁금하신가요?\\n00:00 PC에서 멤버 관리하기...   \n",
              "754      한국어  #잔디 #JANDI #협업툴\\n🌱 잔디가 자라는 방법\\n✅ 언제 어디서나 가장 쉬운...   \n",
              "755      한국어  ✅ 경영벙커 강의파일과 자료 다운받기 👉 https://bit.ly/3CVqZX5\\...   \n",
              "756      한국어  00:01 PC에서 @멘션하기\\n00:25 멘션 모아보기\\n00:35  Mobile...   \n",
              "\n",
              "                                              new_text  \\\n",
              "0    1강 디지털 트랜스포메이션DX에 대한 이해 제 1강 디지털 트랜스포메이션DX에 대한...   \n",
              "1    2강 디지털 트랜스포메이션을 위한 사전준비 제 2강 디지털 트랜스포메이션을 위한 사...   \n",
              "2    3강 디지털 역량 진단 제 3강 디지털 역량 진단 강의입니다 \\n3강에서는 디지털 ...   \n",
              "3    4강 목표수립 및 방향설정 제 4강 목표수립 및 방향설정 강의입니다 \\n4강에서는 ...   \n",
              "4    5강 디지털 비즈니스 모델 혁신 제 5강 디지털 비즈니스 모델 혁신 강의입니다 \\n...   \n",
              "..                                                 ...   \n",
              "752  잔디JANDI 잔디밭처럼 편안한 직장인 위한 소통 공간토스랩 김대현 대표 인터뷰 브...   \n",
              "753  14 조직도 만들기멤버 관리 ㅣ 잔디 튜토리얼 멤버의 탈퇴차단 등 멤버 관리가 궁금...   \n",
              "754  협업툴 CTO의 협업 A to Z  잔디가 자라는 방법 ep2 잔디 JANDI 협업...   \n",
              "755  카카오톡 잔디 플로우 네이버웍스 노션 우리 기업에 맞는 협업툴과 업무툴은  경영벙커...   \n",
              "756  7  멘션  담당자 지목하기ㅣ 잔디 튜토리얼 0001 PC에서 멘션하기\\n0025 ...   \n",
              "\n",
              "                                             key_words  \n",
              "0        디지털 트랜스포메이션, 생산성, 디지털 기술, 디지털 혁신, 산업DX, 디지털전환  \n",
              "1    디지털 트랜스포메이션, 디지털 혁신, 산업 DX, DX 전담조직PMO, KPC 디지...  \n",
              "2    디지털 역량 진단, 디지털 트랜스포메이션, 디지털 비전, 리더십, 디지털 전략, 디...  \n",
              "3    디지털 트랜스포메이션, 디지털 비전, 디지털 리더십, 디지털 거버넌스, DX 교육,...  \n",
              "4    디지털 비즈니스 모델, 디지털 비즈니스 모델 혁신, 디지털 트랜스포메이션, 비즈니스...  \n",
              "..                                                 ...  \n",
              "752       잔디, 업무협업 툴, 실시간, 창업, 벤처스타트업, 미디어, 소통, 디지털 혁신  \n",
              "753              조직도, 멤버 관리, 무료 플랜, 유료 플랜, 모바일, 디지털 혁신  \n",
              "754  협업툴, 메신저, 업무용 커뮤니케이션 툴, 핵심 기능, 업무 몰입, 생산성, 협업,...  \n",
              "755  카카오톡, 잔디, 플로우, 네이버웍스, 노션, 협업툴, 업무툴, 컨설팅회사, 경영 ...  \n",
              "756                            잔디 튜토리얼, 멘션, PC, Mobile  \n",
              "\n",
              "[757 rows x 14 columns]"
            ],
            "text/html": [
              "\n",
              "  <div id=\"df-9ae72325-991c-46fd-8332-d0b98fea49be\">\n",
              "    <div class=\"colab-df-container\">\n",
              "      <div>\n",
              "<style scoped>\n",
              "    .dataframe tbody tr th:only-of-type {\n",
              "        vertical-align: middle;\n",
              "    }\n",
              "\n",
              "    .dataframe tbody tr th {\n",
              "        vertical-align: top;\n",
              "    }\n",
              "\n",
              "    .dataframe thead th {\n",
              "        text-align: right;\n",
              "    }\n",
              "</style>\n",
              "<table border=\"1\" class=\"dataframe\">\n",
              "  <thead>\n",
              "    <tr style=\"text-align: right;\">\n",
              "      <th></th>\n",
              "      <th>id</th>\n",
              "      <th>title</th>\n",
              "      <th>url</th>\n",
              "      <th>date</th>\n",
              "      <th>keyword</th>\n",
              "      <th>creator</th>\n",
              "      <th>view</th>\n",
              "      <th>likes</th>\n",
              "      <th>depart</th>\n",
              "      <th>depart1</th>\n",
              "      <th>language</th>\n",
              "      <th>text</th>\n",
              "      <th>new_text</th>\n",
              "      <th>key_words</th>\n",
              "    </tr>\n",
              "  </thead>\n",
              "  <tbody>\n",
              "    <tr>\n",
              "      <th>0</th>\n",
              "      <td>0</td>\n",
              "      <td>1강. 디지털 트랜스포메이션(DX)에 대한 이해</td>\n",
              "      <td>https://www.youtube.com/watch?v=TIW4r4FeOZE</td>\n",
              "      <td>2021.5.7</td>\n",
              "      <td>DX 표준 프레임워크 온라인교육</td>\n",
              "      <td>KPC디지털</td>\n",
              "      <td>2508</td>\n",
              "      <td>29.0</td>\n",
              "      <td>DX이해</td>\n",
              "      <td>DX기초</td>\n",
              "      <td>한국어</td>\n",
              "      <td>제 1강 ‘디지털 트랜스포메이션(DX)에 대한 이해‘ 강의입니다. \\n1강에서는 디...</td>\n",
              "      <td>1강 디지털 트랜스포메이션DX에 대한 이해 제 1강 디지털 트랜스포메이션DX에 대한...</td>\n",
              "      <td>디지털 트랜스포메이션, 생산성, 디지털 기술, 디지털 혁신, 산업DX, 디지털전환</td>\n",
              "    </tr>\n",
              "    <tr>\n",
              "      <th>1</th>\n",
              "      <td>1</td>\n",
              "      <td>2강. 디지털 트랜스포메이션을 위한 사전준비</td>\n",
              "      <td>https://www.youtube.com/watch?v=zttI91TWqPs</td>\n",
              "      <td>2021.5.7</td>\n",
              "      <td>DX 표준 프레임워크 온라인교육</td>\n",
              "      <td>KPC디지털</td>\n",
              "      <td>764</td>\n",
              "      <td>11.0</td>\n",
              "      <td>DX이해</td>\n",
              "      <td>DX기초</td>\n",
              "      <td>한국어</td>\n",
              "      <td>제 2강 ‘디지털 트랜스포메이션을 위한 사전준비‘ 강의입니다. \\n2강에서는 어떻게...</td>\n",
              "      <td>2강 디지털 트랜스포메이션을 위한 사전준비 제 2강 디지털 트랜스포메이션을 위한 사...</td>\n",
              "      <td>디지털 트랜스포메이션, 디지털 혁신, 산업 DX, DX 전담조직PMO, KPC 디지...</td>\n",
              "    </tr>\n",
              "    <tr>\n",
              "      <th>2</th>\n",
              "      <td>2</td>\n",
              "      <td>3강. 디지털 역량 진단</td>\n",
              "      <td>https://www.youtube.com/watch?v=dYr37tUnlvM</td>\n",
              "      <td>2021.5.7</td>\n",
              "      <td>DX 표준 프레임워크 온라인교육</td>\n",
              "      <td>KPC디지털</td>\n",
              "      <td>799</td>\n",
              "      <td>9.0</td>\n",
              "      <td>DX이해</td>\n",
              "      <td>DX기초</td>\n",
              "      <td>한국어</td>\n",
              "      <td>제 3강 ‘디지털 역량 진단‘ 강의입니다. \\n3강에서는 디지털 트랜스포메이션을 위...</td>\n",
              "      <td>3강 디지털 역량 진단 제 3강 디지털 역량 진단 강의입니다 \\n3강에서는 디지털 ...</td>\n",
              "      <td>디지털 역량 진단, 디지털 트랜스포메이션, 디지털 비전, 리더십, 디지털 전략, 디...</td>\n",
              "    </tr>\n",
              "    <tr>\n",
              "      <th>3</th>\n",
              "      <td>3</td>\n",
              "      <td>4강. 목표수립 및 방향설정</td>\n",
              "      <td>https://www.youtube.com/watch?v=5IekH0xnth8</td>\n",
              "      <td>2021.5.7</td>\n",
              "      <td>DX 표준 프레임워크 온라인교육</td>\n",
              "      <td>KPC디지털</td>\n",
              "      <td>504</td>\n",
              "      <td>9.0</td>\n",
              "      <td>DX이해</td>\n",
              "      <td>DX기초</td>\n",
              "      <td>한국어</td>\n",
              "      <td>제 4강 ‘목표수립 및 방향설정‘ 강의입니다. \\n4강에서는 디지털 트랜스포메이션을...</td>\n",
              "      <td>4강 목표수립 및 방향설정 제 4강 목표수립 및 방향설정 강의입니다 \\n4강에서는 ...</td>\n",
              "      <td>디지털 트랜스포메이션, 디지털 비전, 디지털 리더십, 디지털 거버넌스, DX 교육,...</td>\n",
              "    </tr>\n",
              "    <tr>\n",
              "      <th>4</th>\n",
              "      <td>4</td>\n",
              "      <td>5강. 디지털 비즈니스 모델 혁신</td>\n",
              "      <td>https://www.youtube.com/watch?v=7k4QEJNNoNs</td>\n",
              "      <td>2021.5.7</td>\n",
              "      <td>DX 표준 프레임워크 온라인교육</td>\n",
              "      <td>KPC디지털</td>\n",
              "      <td>405</td>\n",
              "      <td>5.0</td>\n",
              "      <td>DX이해</td>\n",
              "      <td>DX기초</td>\n",
              "      <td>한국어</td>\n",
              "      <td>제 5강 ‘디지털 비즈니스 모델 혁신‘ 강의입니다. \\n5강에서는 디지털 비즈니스 ...</td>\n",
              "      <td>5강 디지털 비즈니스 모델 혁신 제 5강 디지털 비즈니스 모델 혁신 강의입니다 \\n...</td>\n",
              "      <td>디지털 비즈니스 모델, 디지털 비즈니스 모델 혁신, 디지털 트랜스포메이션, 비즈니스...</td>\n",
              "    </tr>\n",
              "    <tr>\n",
              "      <th>...</th>\n",
              "      <td>...</td>\n",
              "      <td>...</td>\n",
              "      <td>...</td>\n",
              "      <td>...</td>\n",
              "      <td>...</td>\n",
              "      <td>...</td>\n",
              "      <td>...</td>\n",
              "      <td>...</td>\n",
              "      <td>...</td>\n",
              "      <td>...</td>\n",
              "      <td>...</td>\n",
              "      <td>...</td>\n",
              "      <td>...</td>\n",
              "      <td>...</td>\n",
              "    </tr>\n",
              "    <tr>\n",
              "      <th>752</th>\n",
              "      <td>752</td>\n",
              "      <td>잔디(JANDI), 잔디밭처럼 편안한 직장인 위한 소통 공간!”…토스랩 김대현 대표...</td>\n",
              "      <td>https://www.youtube.com/watch?v=WluXIGfs35g&amp;pp...</td>\n",
              "      <td>2021.1.8</td>\n",
              "      <td>NaN</td>\n",
              "      <td>V-ON Venture must go ON</td>\n",
              "      <td>103</td>\n",
              "      <td>1.0</td>\n",
              "      <td>커뮤니케이션</td>\n",
              "      <td>그룹웨어</td>\n",
              "      <td>한국어</td>\n",
              "      <td>브이온(V-ON) 벤처·스타트업 대표 인터뷰\\n\\n“창업은 좀 더 나은 세상을 만드...</td>\n",
              "      <td>잔디JANDI 잔디밭처럼 편안한 직장인 위한 소통 공간토스랩 김대현 대표 인터뷰 브...</td>\n",
              "      <td>잔디, 업무협업 툴, 실시간, 창업, 벤처스타트업, 미디어, 소통, 디지털 혁신</td>\n",
              "    </tr>\n",
              "    <tr>\n",
              "      <th>753</th>\n",
              "      <td>753</td>\n",
              "      <td>14. 조직도 만들기(멤버 관리) ㅣ 잔디 튜토리얼</td>\n",
              "      <td>https://www.youtube.com/watch?v=unFIeTrHces&amp;pp...</td>\n",
              "      <td>2020.12.22</td>\n",
              "      <td>NaN</td>\n",
              "      <td>JANDI</td>\n",
              "      <td>2347</td>\n",
              "      <td>1.0</td>\n",
              "      <td>커뮤니케이션</td>\n",
              "      <td>그룹웨어</td>\n",
              "      <td>한국어</td>\n",
              "      <td>멤버의 탈퇴/차단 등 멤버 관리가 궁금하신가요?\\n00:00 PC에서 멤버 관리하기...</td>\n",
              "      <td>14 조직도 만들기멤버 관리 ㅣ 잔디 튜토리얼 멤버의 탈퇴차단 등 멤버 관리가 궁금...</td>\n",
              "      <td>조직도, 멤버 관리, 무료 플랜, 유료 플랜, 모바일, 디지털 혁신</td>\n",
              "    </tr>\n",
              "    <tr>\n",
              "      <th>754</th>\n",
              "      <td>754</td>\n",
              "      <td>협업툴 CTO의 협업 A to Z ⎮ 잔디가 자라는 방법 ep.2</td>\n",
              "      <td>https://www.youtube.com/watch?v=Ercl18BvRaU&amp;pp...</td>\n",
              "      <td>2022.4.22</td>\n",
              "      <td>#JANDI</td>\n",
              "      <td>JANDI</td>\n",
              "      <td>608</td>\n",
              "      <td>11.0</td>\n",
              "      <td>커뮤니케이션</td>\n",
              "      <td>그룹웨어</td>\n",
              "      <td>한국어</td>\n",
              "      <td>#잔디 #JANDI #협업툴\\n🌱 잔디가 자라는 방법\\n✅ 언제 어디서나 가장 쉬운...</td>\n",
              "      <td>협업툴 CTO의 협업 A to Z  잔디가 자라는 방법 ep2 잔디 JANDI 협업...</td>\n",
              "      <td>협업툴, 메신저, 업무용 커뮤니케이션 툴, 핵심 기능, 업무 몰입, 생산성, 협업,...</td>\n",
              "    </tr>\n",
              "    <tr>\n",
              "      <th>755</th>\n",
              "      <td>755</td>\n",
              "      <td>카카오톡? 잔디, 플로우, 네이버웍스, 노션... 우리 기업에 맞는 협업툴과 업무툴은?</td>\n",
              "      <td>https://www.youtube.com/watch?v=KTy1VZ9oMcw&amp;pp...</td>\n",
              "      <td>2022.10.17</td>\n",
              "      <td>NaN</td>\n",
              "      <td>가인지TV</td>\n",
              "      <td>4066</td>\n",
              "      <td>66.0</td>\n",
              "      <td>커뮤니케이션</td>\n",
              "      <td>그룹웨어</td>\n",
              "      <td>한국어</td>\n",
              "      <td>✅ 경영벙커 강의파일과 자료 다운받기 👉 https://bit.ly/3CVqZX5\\...</td>\n",
              "      <td>카카오톡 잔디 플로우 네이버웍스 노션 우리 기업에 맞는 협업툴과 업무툴은  경영벙커...</td>\n",
              "      <td>카카오톡, 잔디, 플로우, 네이버웍스, 노션, 협업툴, 업무툴, 컨설팅회사, 경영 ...</td>\n",
              "    </tr>\n",
              "    <tr>\n",
              "      <th>756</th>\n",
              "      <td>756</td>\n",
              "      <td>7.  @멘션 - 담당자 지목하기ㅣ 잔디 튜토리얼</td>\n",
              "      <td>https://www.youtube.com/watch?v=lQSbDtRqeig&amp;pp...</td>\n",
              "      <td>2020.9.16</td>\n",
              "      <td>NaN</td>\n",
              "      <td>JANDI</td>\n",
              "      <td>2578</td>\n",
              "      <td>3.0</td>\n",
              "      <td>커뮤니케이션</td>\n",
              "      <td>그룹웨어</td>\n",
              "      <td>한국어</td>\n",
              "      <td>00:01 PC에서 @멘션하기\\n00:25 멘션 모아보기\\n00:35  Mobile...</td>\n",
              "      <td>7  멘션  담당자 지목하기ㅣ 잔디 튜토리얼 0001 PC에서 멘션하기\\n0025 ...</td>\n",
              "      <td>잔디 튜토리얼, 멘션, PC, Mobile</td>\n",
              "    </tr>\n",
              "  </tbody>\n",
              "</table>\n",
              "<p>757 rows × 14 columns</p>\n",
              "</div>\n",
              "      <button class=\"colab-df-convert\" onclick=\"convertToInteractive('df-9ae72325-991c-46fd-8332-d0b98fea49be')\"\n",
              "              title=\"Convert this dataframe to an interactive table.\"\n",
              "              style=\"display:none;\">\n",
              "        \n",
              "  <svg xmlns=\"http://www.w3.org/2000/svg\" height=\"24px\"viewBox=\"0 0 24 24\"\n",
              "       width=\"24px\">\n",
              "    <path d=\"M0 0h24v24H0V0z\" fill=\"none\"/>\n",
              "    <path d=\"M18.56 5.44l.94 2.06.94-2.06 2.06-.94-2.06-.94-.94-2.06-.94 2.06-2.06.94zm-11 1L8.5 8.5l.94-2.06 2.06-.94-2.06-.94L8.5 2.5l-.94 2.06-2.06.94zm10 10l.94 2.06.94-2.06 2.06-.94-2.06-.94-.94-2.06-.94 2.06-2.06.94z\"/><path d=\"M17.41 7.96l-1.37-1.37c-.4-.4-.92-.59-1.43-.59-.52 0-1.04.2-1.43.59L10.3 9.45l-7.72 7.72c-.78.78-.78 2.05 0 2.83L4 21.41c.39.39.9.59 1.41.59.51 0 1.02-.2 1.41-.59l7.78-7.78 2.81-2.81c.8-.78.8-2.07 0-2.86zM5.41 20L4 18.59l7.72-7.72 1.47 1.35L5.41 20z\"/>\n",
              "  </svg>\n",
              "      </button>\n",
              "      \n",
              "  <style>\n",
              "    .colab-df-container {\n",
              "      display:flex;\n",
              "      flex-wrap:wrap;\n",
              "      gap: 12px;\n",
              "    }\n",
              "\n",
              "    .colab-df-convert {\n",
              "      background-color: #E8F0FE;\n",
              "      border: none;\n",
              "      border-radius: 50%;\n",
              "      cursor: pointer;\n",
              "      display: none;\n",
              "      fill: #1967D2;\n",
              "      height: 32px;\n",
              "      padding: 0 0 0 0;\n",
              "      width: 32px;\n",
              "    }\n",
              "\n",
              "    .colab-df-convert:hover {\n",
              "      background-color: #E2EBFA;\n",
              "      box-shadow: 0px 1px 2px rgba(60, 64, 67, 0.3), 0px 1px 3px 1px rgba(60, 64, 67, 0.15);\n",
              "      fill: #174EA6;\n",
              "    }\n",
              "\n",
              "    [theme=dark] .colab-df-convert {\n",
              "      background-color: #3B4455;\n",
              "      fill: #D2E3FC;\n",
              "    }\n",
              "\n",
              "    [theme=dark] .colab-df-convert:hover {\n",
              "      background-color: #434B5C;\n",
              "      box-shadow: 0px 1px 3px 1px rgba(0, 0, 0, 0.15);\n",
              "      filter: drop-shadow(0px 1px 2px rgba(0, 0, 0, 0.3));\n",
              "      fill: #FFFFFF;\n",
              "    }\n",
              "  </style>\n",
              "\n",
              "      <script>\n",
              "        const buttonEl =\n",
              "          document.querySelector('#df-9ae72325-991c-46fd-8332-d0b98fea49be button.colab-df-convert');\n",
              "        buttonEl.style.display =\n",
              "          google.colab.kernel.accessAllowed ? 'block' : 'none';\n",
              "\n",
              "        async function convertToInteractive(key) {\n",
              "          const element = document.querySelector('#df-9ae72325-991c-46fd-8332-d0b98fea49be');\n",
              "          const dataTable =\n",
              "            await google.colab.kernel.invokeFunction('convertToInteractive',\n",
              "                                                     [key], {});\n",
              "          if (!dataTable) return;\n",
              "\n",
              "          const docLinkHtml = 'Like what you see? Visit the ' +\n",
              "            '<a target=\"_blank\" href=https://colab.research.google.com/notebooks/data_table.ipynb>data table notebook</a>'\n",
              "            + ' to learn more about interactive tables.';\n",
              "          element.innerHTML = '';\n",
              "          dataTable['output_type'] = 'display_data';\n",
              "          await google.colab.output.renderOutput(dataTable, element);\n",
              "          const docLink = document.createElement('div');\n",
              "          docLink.innerHTML = docLinkHtml;\n",
              "          element.appendChild(docLink);\n",
              "        }\n",
              "      </script>\n",
              "    </div>\n",
              "  </div>\n",
              "  "
            ]
          },
          "metadata": {},
          "execution_count": 3
        }
      ]
    },
    {
      "cell_type": "code",
      "source": [
        "contents_pd['depart'].unique()"
      ],
      "metadata": {
        "colab": {
          "base_uri": "https://localhost:8080/"
        },
        "id": "Ue5DKt-7euiJ",
        "outputId": "c177d02f-cbd2-4390-f11a-659e0469ffec"
      },
      "execution_count": 25,
      "outputs": [
        {
          "output_type": "execute_result",
          "data": {
            "text/plain": [
              "array(['DX이해', 'DX태도', '워크스킬', '데이터기술', '지능화기술', '자동화기술', '컴퓨팅기술',\n",
              "       '최신기술활용역량', '커뮤니케이션'], dtype=object)"
            ]
          },
          "metadata": {},
          "execution_count": 25
        }
      ]
    },
    {
      "cell_type": "code",
      "source": [
        "df1=contents_pd[contents_pd['depart']=='데이터기술']"
      ],
      "metadata": {
        "id": "2-Tn2N46_JHh"
      },
      "execution_count": 42,
      "outputs": []
    },
    {
      "cell_type": "code",
      "source": [
        "df1.info()"
      ],
      "metadata": {
        "colab": {
          "base_uri": "https://localhost:8080/"
        },
        "id": "-OagApOADETf",
        "outputId": "04eb5ccd-031b-4259-d9d2-d3c59759ef06"
      },
      "execution_count": 43,
      "outputs": [
        {
          "output_type": "stream",
          "name": "stdout",
          "text": [
            "<class 'pandas.core.frame.DataFrame'>\n",
            "Int64Index: 95 entries, 242 to 408\n",
            "Data columns (total 14 columns):\n",
            " #   Column     Non-Null Count  Dtype  \n",
            "---  ------     --------------  -----  \n",
            " 0   id         95 non-null     int64  \n",
            " 1   title      95 non-null     object \n",
            " 2   url        95 non-null     object \n",
            " 3   date       95 non-null     object \n",
            " 4   keyword    75 non-null     object \n",
            " 5   creator    95 non-null     object \n",
            " 6   view       95 non-null     int64  \n",
            " 7   likes      92 non-null     float64\n",
            " 8   depart     95 non-null     object \n",
            " 9   depart1    95 non-null     object \n",
            " 10  language   95 non-null     object \n",
            " 11  text       95 non-null     object \n",
            " 12  new_text   95 non-null     object \n",
            " 13  key_words  95 non-null     object \n",
            "dtypes: float64(1), int64(2), object(11)\n",
            "memory usage: 11.1+ KB\n"
          ]
        }
      ]
    },
    {
      "cell_type": "code",
      "source": [
        "df1['key_words'][:5]"
      ],
      "metadata": {
        "colab": {
          "base_uri": "https://localhost:8080/"
        },
        "id": "TFmj9qFbb_c6",
        "outputId": "cb2a61cb-3c9b-4310-825d-d2087178b9e1"
      },
      "execution_count": 44,
      "outputs": [
        {
          "output_type": "execute_result",
          "data": {
            "text/plain": [
              "242    Orange3, 머신러닝, 데이터 마이닝, 빅데이터, 데이터 분석, 코딩, Pyth...\n",
              "243    Orange, 데이터 분석, 시계열 분석, ARIMA, 위젯, 마우스 클릭, 마우스...\n",
              "244    Orange, 데이터 마이닝, 클러스터링, 분류법, 이미지 데이터, 오픈 소스, 데...\n",
              "245                  Orange3, 데이터 분석, 머신 러닝, 인공지능, 집값 예측\n",
              "246                   STEP Orange, 정형 데이터 분석, 데이터 마이닝 도구\n",
              "Name: key_words, dtype: object"
            ]
          },
          "metadata": {},
          "execution_count": 44
        }
      ]
    },
    {
      "cell_type": "markdown",
      "source": [
        "### Sklearn으로 LDA"
      ],
      "metadata": {
        "id": "wk5VB4iFdSMj"
      }
    },
    {
      "cell_type": "code",
      "source": [
        "# 상위 1,000개의 단어를 보존\n",
        "vectorizer = TfidfVectorizer(stop_words='english', max_features= 1000)\n",
        "X = vectorizer.fit_transform(df1['key_words'])\n",
        "\n",
        "# TF-IDF 행렬의 크기 확인\n",
        "print('TF-IDF 행렬의 크기 :', X.shape)"
      ],
      "metadata": {
        "colab": {
          "base_uri": "https://localhost:8080/"
        },
        "id": "m_kS1V7gcZzL",
        "outputId": "c6a5a254-757f-4900-9b18-dadca0ed22c5"
      },
      "execution_count": 45,
      "outputs": [
        {
          "output_type": "stream",
          "name": "stdout",
          "text": [
            "TF-IDF 행렬의 크기 : (95, 567)\n"
          ]
        }
      ]
    },
    {
      "cell_type": "code",
      "source": [
        "lda_model = LatentDirichletAllocation(n_components=10,learning_method='online',random_state=777,max_iter=1)"
      ],
      "metadata": {
        "id": "QpNAaKwuchie"
      },
      "execution_count": 46,
      "outputs": []
    },
    {
      "cell_type": "code",
      "source": [
        "lda_top = lda_model.fit_transform(X)"
      ],
      "metadata": {
        "id": "e6SysId7c3bc"
      },
      "execution_count": 47,
      "outputs": []
    },
    {
      "cell_type": "code",
      "source": [
        "print(lda_model.components_)\n",
        "print(lda_model.components_.shape)"
      ],
      "metadata": {
        "colab": {
          "base_uri": "https://localhost:8080/"
        },
        "id": "3292f399c4up",
        "outputId": "d5514549-6f50-42a1-dbaf-3b52b3ef1724"
      },
      "execution_count": 48,
      "outputs": [
        {
          "output_type": "stream",
          "name": "stdout",
          "text": [
            "[[0.79187797 0.7643112  0.95055429 ... 0.82374461 0.81303588 0.75108979]\n",
            " [0.66643395 0.77041779 0.87714267 ... 0.7486447  0.87031294 0.84350349]\n",
            " [0.72953679 0.92016692 0.79993756 ... 0.83797509 0.86772354 0.8358858 ]\n",
            " ...\n",
            " [0.8364506  0.87869292 0.77359746 ... 0.72486651 0.84087724 0.84203872]\n",
            " [0.77817889 0.88750857 0.80700707 ... 0.67445668 0.86053935 0.92305303]\n",
            " [0.86193532 1.01597139 0.70628016 ... 0.8188294  0.80558923 0.79410204]]\n",
            "(10, 567)\n"
          ]
        }
      ]
    },
    {
      "cell_type": "code",
      "source": [
        "# 단어 집합. 1,000개의 단어가 저장됨.\n",
        "terms = vectorizer.get_feature_names_out()\n",
        "\n",
        "def get_topics(components, feature_names, n=5):\n",
        "    for idx, topic in enumerate(components):\n",
        "        print(\"Topic %d:\" % (idx+1), [(feature_names[i], topic[i].round(2)) for i in topic.argsort()[:-n - 1:-1]])\n",
        "\n",
        "get_topics(lda_model.components_,terms)"
      ],
      "metadata": {
        "colab": {
          "base_uri": "https://localhost:8080/"
        },
        "id": "MlNga7ixc6TF",
        "outputId": "8a5612d2-7995-466d-cda2-3b8f6260ad84"
      },
      "execution_count": 51,
      "outputs": [
        {
          "output_type": "stream",
          "name": "stdout",
          "text": [
            "Topic 1: [('자동채우기', 1.14), ('세로막대', 1.13), ('클라우드', 1.07), ('혁신적인', 1.07), ('다층', 1.06)]\n",
            "Topic 2: [('엑셀', 1.44), ('관계형성', 1.23), ('혁신', 1.23), ('디노마케팅', 1.18), ('db', 1.18)]\n",
            "Topic 3: [('그래프', 1.24), ('power', 1.13), ('구성', 1.1), ('산업', 1.1), ('마우스', 1.08)]\n",
            "Topic 4: [('analysis', 1.1), ('집계', 1.08), ('t아카데미', 1.05), ('방법', 1.05), ('dimension', 1.04)]\n",
            "Topic 5: [('프론트엔드', 1.14), ('crm', 1.09), ('인프런', 1.06), ('그룹화', 1.06), ('web', 1.05)]\n",
            "Topic 6: [('데이터', 1.46), ('엑셀', 1.26), ('분석', 1.19), ('erd', 1.16), ('시각화', 1.14)]\n",
            "Topic 7: [('sns', 1.15), ('데이터베이스', 1.09), ('elastic', 1.07), ('erd', 1.06), ('프로세스', 1.06)]\n",
            "Topic 8: [('빅쿼리', 1.13), ('knime', 1.11), ('중고차', 1.1), ('머신러닝', 1.08), ('데이터', 1.06)]\n",
            "Topic 9: [('수집', 1.1), ('시간', 1.09), ('원칙', 1.09), ('web', 1.08), ('매장', 1.08)]\n",
            "Topic 10: [('데이터', 1.62), ('처리', 1.15), ('orange', 1.15), ('프로그램', 1.15), ('딥러닝', 1.13)]\n"
          ]
        }
      ]
    },
    {
      "cell_type": "code",
      "source": [],
      "metadata": {
        "id": "sPdKcNxNc70k"
      },
      "execution_count": null,
      "outputs": []
    }
  ]
}