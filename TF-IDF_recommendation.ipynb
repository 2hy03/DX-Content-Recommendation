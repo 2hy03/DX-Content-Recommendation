{
 "cells": [
  {
   "cell_type": "code",
   "execution_count": 2,
   "metadata": {
    "id": "qUR0PudwUv7v"
   },
   "outputs": [],
   "source": [
    "import pandas as pd\n",
    "import numpy as np\n",
    "from ast import literal_eval\n",
    "import re\n",
    "import warnings\n",
    "warnings.filterwarnings(\"ignore\")\n",
    "\n",
    "from sklearn.feature_extraction.text import TfidfVectorizer\n",
    "from sklearn.metrics.pairwise import cosine_similarity\n"
   ]
  },
  {
   "cell_type": "code",
   "execution_count": 3,
   "metadata": {
    "id": "DN7O9V5dVVE_"
   },
   "outputs": [],
   "source": [
    "contents_pd = pd.read_csv('C:/Users/2hy03/Python_personal/Dx추천/kr_dx_concat_pre.csv', encoding='utf-8')\n",
    "contents_pd.columns =['id', 'title', 'url', 'date', 'keyword', 'creator', 'view','likes', 'depart', 'depart1', 'language', 'text', 'new_text','key_words']"
   ]
  },
  {
   "cell_type": "code",
   "execution_count": 4,
   "metadata": {
    "id": "y_kHoLbDV_Cd"
   },
   "outputs": [],
   "source": [
    "contents=contents_pd[[\n",
    "    'id','title','date','creator','view','likes','depart','key_words'\n",
    "]]"
   ]
  },
  {
   "cell_type": "code",
   "execution_count": 5,
   "metadata": {
    "colab": {
     "base_uri": "https://localhost:8080/",
     "height": 337
    },
    "id": "v7wewk2rXFSa",
    "outputId": "b474d88a-356e-4e4a-cce9-25912d269b97"
   },
   "outputs": [
    {
     "data": {
      "text/html": [
       "<div>\n",
       "<style scoped>\n",
       "    .dataframe tbody tr th:only-of-type {\n",
       "        vertical-align: middle;\n",
       "    }\n",
       "\n",
       "    .dataframe tbody tr th {\n",
       "        vertical-align: top;\n",
       "    }\n",
       "\n",
       "    .dataframe thead th {\n",
       "        text-align: right;\n",
       "    }\n",
       "</style>\n",
       "<table border=\"1\" class=\"dataframe\">\n",
       "  <thead>\n",
       "    <tr style=\"text-align: right;\">\n",
       "      <th></th>\n",
       "      <th>id</th>\n",
       "      <th>title</th>\n",
       "      <th>date</th>\n",
       "      <th>creator</th>\n",
       "      <th>view</th>\n",
       "      <th>likes</th>\n",
       "      <th>depart</th>\n",
       "      <th>key_words</th>\n",
       "    </tr>\n",
       "  </thead>\n",
       "  <tbody>\n",
       "    <tr>\n",
       "      <th>0</th>\n",
       "      <td>0</td>\n",
       "      <td>1강. 디지털 트랜스포메이션(DX)에 대한 이해</td>\n",
       "      <td>2021.5.7</td>\n",
       "      <td>KPC디지털</td>\n",
       "      <td>2508</td>\n",
       "      <td>29.0</td>\n",
       "      <td>DX이해</td>\n",
       "      <td>디지털 트랜스포메이션, 생산성, 디지털 기술, 디지털 혁신, 산업DX, 디지털전환</td>\n",
       "    </tr>\n",
       "    <tr>\n",
       "      <th>1</th>\n",
       "      <td>1</td>\n",
       "      <td>2강. 디지털 트랜스포메이션을 위한 사전준비</td>\n",
       "      <td>2021.5.7</td>\n",
       "      <td>KPC디지털</td>\n",
       "      <td>764</td>\n",
       "      <td>11.0</td>\n",
       "      <td>DX이해</td>\n",
       "      <td>디지털 트랜스포메이션, 디지털 혁신, 산업 DX, DX 전담조직PMO, KPC 디지...</td>\n",
       "    </tr>\n",
       "    <tr>\n",
       "      <th>2</th>\n",
       "      <td>2</td>\n",
       "      <td>3강. 디지털 역량 진단</td>\n",
       "      <td>2021.5.7</td>\n",
       "      <td>KPC디지털</td>\n",
       "      <td>799</td>\n",
       "      <td>9.0</td>\n",
       "      <td>DX이해</td>\n",
       "      <td>디지털 역량 진단, 디지털 트랜스포메이션, 디지털 비전, 리더십, 디지털 전략, 디...</td>\n",
       "    </tr>\n",
       "    <tr>\n",
       "      <th>3</th>\n",
       "      <td>3</td>\n",
       "      <td>4강. 목표수립 및 방향설정</td>\n",
       "      <td>2021.5.7</td>\n",
       "      <td>KPC디지털</td>\n",
       "      <td>504</td>\n",
       "      <td>9.0</td>\n",
       "      <td>DX이해</td>\n",
       "      <td>디지털 트랜스포메이션, 디지털 비전, 디지털 리더십, 디지털 거버넌스, DX 교육,...</td>\n",
       "    </tr>\n",
       "    <tr>\n",
       "      <th>4</th>\n",
       "      <td>4</td>\n",
       "      <td>5강. 디지털 비즈니스 모델 혁신</td>\n",
       "      <td>2021.5.7</td>\n",
       "      <td>KPC디지털</td>\n",
       "      <td>405</td>\n",
       "      <td>5.0</td>\n",
       "      <td>DX이해</td>\n",
       "      <td>디지털 비즈니스 모델, 디지털 비즈니스 모델 혁신, 디지털 트랜스포메이션, 비즈니스...</td>\n",
       "    </tr>\n",
       "  </tbody>\n",
       "</table>\n",
       "</div>"
      ],
      "text/plain": [
       "   id                       title      date creator  view  likes depart  \\\n",
       "0   0  1강. 디지털 트랜스포메이션(DX)에 대한 이해  2021.5.7  KPC디지털  2508   29.0   DX이해   \n",
       "1   1    2강. 디지털 트랜스포메이션을 위한 사전준비  2021.5.7  KPC디지털   764   11.0   DX이해   \n",
       "2   2               3강. 디지털 역량 진단  2021.5.7  KPC디지털   799    9.0   DX이해   \n",
       "3   3             4강. 목표수립 및 방향설정  2021.5.7  KPC디지털   504    9.0   DX이해   \n",
       "4   4          5강. 디지털 비즈니스 모델 혁신  2021.5.7  KPC디지털   405    5.0   DX이해   \n",
       "\n",
       "                                           key_words  \n",
       "0      디지털 트랜스포메이션, 생산성, 디지털 기술, 디지털 혁신, 산업DX, 디지털전환  \n",
       "1  디지털 트랜스포메이션, 디지털 혁신, 산업 DX, DX 전담조직PMO, KPC 디지...  \n",
       "2  디지털 역량 진단, 디지털 트랜스포메이션, 디지털 비전, 리더십, 디지털 전략, 디...  \n",
       "3  디지털 트랜스포메이션, 디지털 비전, 디지털 리더십, 디지털 거버넌스, DX 교육,...  \n",
       "4  디지털 비즈니스 모델, 디지털 비즈니스 모델 혁신, 디지털 트랜스포메이션, 비즈니스...  "
      ]
     },
     "execution_count": 5,
     "metadata": {},
     "output_type": "execute_result"
    }
   ],
   "source": [
    "contents.head()"
   ]
  },
  {
   "cell_type": "code",
   "execution_count": 6,
   "metadata": {
    "colab": {
     "base_uri": "https://localhost:8080/"
    },
    "id": "WcWeR3viXGTt",
    "outputId": "7e38af06-720e-4dc1-8968-e6a043fbd30c"
   },
   "outputs": [
    {
     "name": "stdout",
     "output_type": "stream",
     "text": [
      "<class 'pandas.core.frame.DataFrame'>\n",
      "RangeIndex: 757 entries, 0 to 756\n",
      "Data columns (total 8 columns):\n",
      " #   Column     Non-Null Count  Dtype  \n",
      "---  ------     --------------  -----  \n",
      " 0   id         757 non-null    int64  \n",
      " 1   title      757 non-null    object \n",
      " 2   date       757 non-null    object \n",
      " 3   creator    757 non-null    object \n",
      " 4   view       757 non-null    int64  \n",
      " 5   likes      742 non-null    float64\n",
      " 6   depart     757 non-null    object \n",
      " 7   key_words  757 non-null    object \n",
      "dtypes: float64(1), int64(2), object(5)\n",
      "memory usage: 47.4+ KB\n"
     ]
    }
   ],
   "source": [
    "contents.info()"
   ]
  },
  {
   "cell_type": "code",
   "execution_count": 7,
   "metadata": {
    "id": "9GjBh9ieXTAz"
   },
   "outputs": [],
   "source": [
    "contents['likes'] = contents['likes'].fillna(0)"
   ]
  },
  {
   "cell_type": "markdown",
   "metadata": {
    "id": "1bE_BAtxjVED"
   },
   "source": [
    "## TF-IDF기반 추천시스템\n",
    "- key_words기반\n",
    "- title기반\n",
    "- title + key_words?"
   ]
  },
  {
   "cell_type": "code",
   "execution_count": 8,
   "metadata": {
    "id": "SJjhlfpPYoEQ"
   },
   "outputs": [],
   "source": [
    "# 제목 기반\n",
    "def tfidf_title_recommendation(contents, sample_title, top_n=5):\n",
    "\n",
    "    sample_index = contents[contents['title'] == sample_title].index[0]\n",
    "\n",
    "    tfidf_vectorizer = TfidfVectorizer()\n",
    "    tfidf_matrix = tfidf_vectorizer.fit_transform(contents['title'])\n",
    "\n",
    "    similarity_scores = cosine_similarity(tfidf_matrix[sample_index], tfidf_matrix)\n",
    "\n",
    "    top_indices = similarity_scores.argsort()[0][-top_n-1:-1][::-1]\n",
    "    top_scores = similarity_scores[0][top_indices]\n",
    "    top_contents = contents.iloc[top_indices]\n",
    "    top_contents['similarity_score'] = top_scores\n",
    "\n",
    "    return top_contents\n",
    "\n",
    "# 키워드 기반\n",
    "def tfidf_keyword_recommendation(contents, sample_title, top_n=5):\n",
    "    sample_index = contents[contents['title'] == sample_title].index[0]\n",
    "\n",
    "    tfidf_vectorizer = TfidfVectorizer()\n",
    "    tfidf_matrix = tfidf_vectorizer.fit_transform(contents['key_words'])\n",
    "\n",
    "    similarity_scores = cosine_similarity(tfidf_matrix[sample_index], tfidf_matrix)\n",
    "\n",
    "    top_indices = similarity_scores.argsort()[0][-top_n-1:-1][::-1]\n",
    "    top_scores = similarity_scores[0][top_indices]\n",
    "    top_contents = contents.iloc[top_indices]\n",
    "    top_contents['similarity_score'] = top_scores\n",
    "\n",
    "    return top_contents\n"
   ]
  },
  {
   "cell_type": "code",
   "execution_count": 9,
   "metadata": {
    "colab": {
     "base_uri": "https://localhost:8080/",
     "height": 408
    },
    "id": "2nt53gcUiAdI",
    "outputId": "cf25e7be-2728-4b84-dd51-d683a0d55dd6"
   },
   "outputs": [
    {
     "name": "stdout",
     "output_type": "stream",
     "text": [
      "샘플 컨텐츠 제목을 입력하세요: 사례로 알아보는 AI 활용한 RPA고도화\n"
     ]
    },
    {
     "data": {
      "text/html": [
       "<div>\n",
       "<style scoped>\n",
       "    .dataframe tbody tr th:only-of-type {\n",
       "        vertical-align: middle;\n",
       "    }\n",
       "\n",
       "    .dataframe tbody tr th {\n",
       "        vertical-align: top;\n",
       "    }\n",
       "\n",
       "    .dataframe thead th {\n",
       "        text-align: right;\n",
       "    }\n",
       "</style>\n",
       "<table border=\"1\" class=\"dataframe\">\n",
       "  <thead>\n",
       "    <tr style=\"text-align: right;\">\n",
       "      <th></th>\n",
       "      <th>title</th>\n",
       "      <th>creator</th>\n",
       "      <th>depart</th>\n",
       "      <th>key_words</th>\n",
       "      <th>similarity_score</th>\n",
       "    </tr>\n",
       "  </thead>\n",
       "  <tbody>\n",
       "    <tr>\n",
       "      <th>386</th>\n",
       "      <td>자동화: 마케팅, 영업, 서비스를 더 쉽게 만드는 방법 | Salesforce Ex...</td>\n",
       "      <td>세일즈포스 - Salesforce Korea</td>\n",
       "      <td>자동화기술</td>\n",
       "      <td>자동화, 마케팅 자동화, 영업 자동화, 고객 서비스 자동화, Salesforce F...</td>\n",
       "      <td>0.302995</td>\n",
       "    </tr>\n",
       "    <tr>\n",
       "      <th>395</th>\n",
       "      <td>자동화로 혁신하는 제조산업</td>\n",
       "      <td>헬로티_매일 만나는 산업, IT News</td>\n",
       "      <td>자동화기술</td>\n",
       "      <td>자동화, 제조산업, RPA, 제조 자동화, 비즈니스 프로세스 혁신, 서비스 혁신, ...</td>\n",
       "      <td>0.277581</td>\n",
       "    </tr>\n",
       "    <tr>\n",
       "      <th>383</th>\n",
       "      <td>1  자피어Zapier 소개 - 24시간 온라인자동화 하는 방법! (부제 : 재피어...</td>\n",
       "      <td>강사자판기</td>\n",
       "      <td>자동화기술</td>\n",
       "      <td>자동화, 온라인 자동화, 업무 효율, 온라인 마케팅, 솔루션, A/B 서비스 연결.</td>\n",
       "      <td>0.219590</td>\n",
       "    </tr>\n",
       "    <tr>\n",
       "      <th>111</th>\n",
       "      <td>디지털 트랜스포메이션의 시작 : RPA + 프로세스 마이닝</td>\n",
       "      <td>TalkIT</td>\n",
       "      <td>DX이해</td>\n",
       "      <td>디지털 트랜스포메이션, RPA, 프로세스 마이닝, 업무 자동화, 비효율성, 컴플라이...</td>\n",
       "      <td>0.203198</td>\n",
       "    </tr>\n",
       "    <tr>\n",
       "      <th>380</th>\n",
       "      <td>[웨비나 다시보기] 매출 성장의 핵심, 오라클 마케팅 자동화 고객 사례</td>\n",
       "      <td>Oracle Korea</td>\n",
       "      <td>자동화기술</td>\n",
       "      <td>웨비나, 매출 성장, 마케팅 자동화, 오라클, 실시간 마케팅, 클라우드, 마케팅 자동화</td>\n",
       "      <td>0.193280</td>\n",
       "    </tr>\n",
       "  </tbody>\n",
       "</table>\n",
       "</div>"
      ],
      "text/plain": [
       "                                                 title  \\\n",
       "386  자동화: 마케팅, 영업, 서비스를 더 쉽게 만드는 방법 | Salesforce Ex...   \n",
       "395                                     자동화로 혁신하는 제조산업   \n",
       "383  1  자피어Zapier 소개 - 24시간 온라인자동화 하는 방법! (부제 : 재피어...   \n",
       "111                   디지털 트랜스포메이션의 시작 : RPA + 프로세스 마이닝   \n",
       "380            [웨비나 다시보기] 매출 성장의 핵심, 오라클 마케팅 자동화 고객 사례   \n",
       "\n",
       "                      creator depart  \\\n",
       "386  세일즈포스 - Salesforce Korea  자동화기술   \n",
       "395    헬로티_매일 만나는 산업, IT News  자동화기술   \n",
       "383                     강사자판기  자동화기술   \n",
       "111                    TalkIT   DX이해   \n",
       "380              Oracle Korea  자동화기술   \n",
       "\n",
       "                                             key_words  similarity_score  \n",
       "386  자동화, 마케팅 자동화, 영업 자동화, 고객 서비스 자동화, Salesforce F...          0.302995  \n",
       "395  자동화, 제조산업, RPA, 제조 자동화, 비즈니스 프로세스 혁신, 서비스 혁신, ...          0.277581  \n",
       "383     자동화, 온라인 자동화, 업무 효율, 온라인 마케팅, 솔루션, A/B 서비스 연결.          0.219590  \n",
       "111  디지털 트랜스포메이션, RPA, 프로세스 마이닝, 업무 자동화, 비효율성, 컴플라이...          0.203198  \n",
       "380   웨비나, 매출 성장, 마케팅 자동화, 오라클, 실시간 마케팅, 클라우드, 마케팅 자동화          0.193280  "
      ]
     },
     "execution_count": 9,
     "metadata": {},
     "output_type": "execute_result"
    }
   ],
   "source": [
    "sample_title = input(\"샘플 컨텐츠 제목을 입력하세요: \")\n",
    "recommended_contents = tfidf_keyword_recommendation(contents, sample_title)\n",
    "recommended_contents = recommended_contents[recommended_contents['similarity_score'] > 0]  # 유사도가 0보다 큰 값만\n",
    "recommended_contents[['title', 'creator','depart','key_words','similarity_score']]\n"
   ]
  },
  {
   "cell_type": "code",
   "execution_count": 10,
   "metadata": {
    "colab": {
     "base_uri": "https://localhost:8080/",
     "height": 391
    },
    "id": "3w22g6lUixeS",
    "outputId": "2a760c24-2137-4f6a-8609-4da9206e93aa"
   },
   "outputs": [
    {
     "name": "stdout",
     "output_type": "stream",
     "text": [
      "샘플 컨텐츠 제목을 입력하세요: 사례로 알아보는 AI 활용한 RPA고도화\n"
     ]
    },
    {
     "data": {
      "text/html": [
       "<div>\n",
       "<style scoped>\n",
       "    .dataframe tbody tr th:only-of-type {\n",
       "        vertical-align: middle;\n",
       "    }\n",
       "\n",
       "    .dataframe tbody tr th {\n",
       "        vertical-align: top;\n",
       "    }\n",
       "\n",
       "    .dataframe thead th {\n",
       "        text-align: right;\n",
       "    }\n",
       "</style>\n",
       "<table border=\"1\" class=\"dataframe\">\n",
       "  <thead>\n",
       "    <tr style=\"text-align: right;\">\n",
       "      <th></th>\n",
       "      <th>title</th>\n",
       "      <th>creator</th>\n",
       "      <th>depart</th>\n",
       "      <th>key_words</th>\n",
       "      <th>similarity_score</th>\n",
       "    </tr>\n",
       "  </thead>\n",
       "  <tbody>\n",
       "    <tr>\n",
       "      <th>260</th>\n",
       "      <td>10분으로 알아보는 AI 기술의 적용 사례들 알아보기! | 십분 AI</td>\n",
       "      <td>십분AI</td>\n",
       "      <td>데이터기술</td>\n",
       "      <td>AI 기술,  적용 사례,  디지털 혁신</td>\n",
       "      <td>0.263144</td>\n",
       "    </tr>\n",
       "    <tr>\n",
       "      <th>259</th>\n",
       "      <td>10분으로 알아보는 빅데이터 기술 &amp; 사례들! | 십분AI 마지막 강의</td>\n",
       "      <td>십분AI</td>\n",
       "      <td>데이터기술</td>\n",
       "      <td>빅데이터 기술, 사례,  AI (인공지능),  데이터 분석,  데이터 시각화, ...</td>\n",
       "      <td>0.164828</td>\n",
       "    </tr>\n",
       "    <tr>\n",
       "      <th>88</th>\n",
       "      <td>4. 해외 사례로 배우는 성공적인 D2C 마케팅/고객경험 전략 | 채널코퍼레이션 김...</td>\n",
       "      <td>바이라인네트워크 비즈니스 테크TV</td>\n",
       "      <td>DX이해</td>\n",
       "      <td>D2C, 마케팅, 고객경험, 제조 브랜드, 온라인, 코로나19, 글로벌, 자사몰, ...</td>\n",
       "      <td>0.161886</td>\n",
       "    </tr>\n",
       "    <tr>\n",
       "      <th>194</th>\n",
       "      <td>Doing Agile과 Being Agile로 알아보는 애자일 도입 전략</td>\n",
       "      <td>투이컨설팅-투이톡</td>\n",
       "      <td>DX태도</td>\n",
       "      <td>애자일, 도입 전략, 실패 이유, 디지털 비즈니스, 디지털 변화, 디지털 혁신, 디...</td>\n",
       "      <td>0.157369</td>\n",
       "    </tr>\n",
       "    <tr>\n",
       "      <th>257</th>\n",
       "      <td>KNIME을 활용한 중고차 예측모델</td>\n",
       "      <td>HJ</td>\n",
       "      <td>데이터기술</td>\n",
       "      <td>KNIME, 머신러닝, 중고차, 예측모델, 데이터 분석, 데이터 모델링.</td>\n",
       "      <td>0.151555</td>\n",
       "    </tr>\n",
       "  </tbody>\n",
       "</table>\n",
       "</div>"
      ],
      "text/plain": [
       "                                                 title             creator  \\\n",
       "260             10분으로 알아보는 AI 기술의 적용 사례들 알아보기! | 십분 AI                십분AI   \n",
       "259            10분으로 알아보는 빅데이터 기술 & 사례들! | 십분AI 마지막 강의                십분AI   \n",
       "88   4. 해외 사례로 배우는 성공적인 D2C 마케팅/고객경험 전략 | 채널코퍼레이션 김...  바이라인네트워크 비즈니스 테크TV   \n",
       "194           Doing Agile과 Being Agile로 알아보는 애자일 도입 전략           투이컨설팅-투이톡   \n",
       "257                                KNIME을 활용한 중고차 예측모델                  HJ   \n",
       "\n",
       "    depart                                          key_words  \\\n",
       "260  데이터기술                             AI 기술,  적용 사례,  디지털 혁신   \n",
       "259  데이터기술    빅데이터 기술, 사례,  AI (인공지능),  데이터 분석,  데이터 시각화, ...   \n",
       "88    DX이해  D2C, 마케팅, 고객경험, 제조 브랜드, 온라인, 코로나19, 글로벌, 자사몰, ...   \n",
       "194   DX태도  애자일, 도입 전략, 실패 이유, 디지털 비즈니스, 디지털 변화, 디지털 혁신, 디...   \n",
       "257  데이터기술           KNIME, 머신러닝, 중고차, 예측모델, 데이터 분석, 데이터 모델링.   \n",
       "\n",
       "     similarity_score  \n",
       "260          0.263144  \n",
       "259          0.164828  \n",
       "88           0.161886  \n",
       "194          0.157369  \n",
       "257          0.151555  "
      ]
     },
     "execution_count": 10,
     "metadata": {},
     "output_type": "execute_result"
    }
   ],
   "source": [
    "sample_title = input(\"샘플 컨텐츠 제목을 입력하세요: \")\n",
    "recommended_contents = tfidf_title_recommendation(contents, sample_title)\n",
    "recommended_contents = recommended_contents[recommended_contents['similarity_score'] > 0]  # 유사도가 0보다 큰 값만\n",
    "recommended_contents[['title', 'creator','depart','key_words','similarity_score']]"
   ]
  },
  {
   "cell_type": "code",
   "execution_count": null,
   "metadata": {
    "id": "Io2b1YJY-KNF"
   },
   "outputs": [],
   "source": []
  }
 ],
 "metadata": {
  "colab": {
   "provenance": []
  },
  "kernelspec": {
   "display_name": "Python 3",
   "language": "python",
   "name": "python3"
  },
  "language_info": {
   "codemirror_mode": {
    "name": "ipython",
    "version": 3
   },
   "file_extension": ".py",
   "mimetype": "text/x-python",
   "name": "python",
   "nbconvert_exporter": "python",
   "pygments_lexer": "ipython3",
   "version": "3.9.13"
  }
 },
 "nbformat": 4,
 "nbformat_minor": 1
}
